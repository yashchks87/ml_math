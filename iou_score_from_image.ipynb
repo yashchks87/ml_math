{
 "cells": [
  {
   "cell_type": "code",
   "execution_count": 2,
   "metadata": {},
   "outputs": [],
   "source": [
    "import numpy as np"
   ]
  },
  {
   "cell_type": "code",
   "execution_count": 3,
   "metadata": {},
   "outputs": [],
   "source": [
    "def get_iou(boxA, boxB):\n",
    "    # This will calculate boxes given in any order...\n",
    "    # This will get max value between 2 boxes becuase max mening overlapping\n",
    "    # area just begins for x\n",
    "    interxA = max(boxA[0], boxB[0])\n",
    "    # This will get max value between 2 boxes becuase max mening overlapping\n",
    "    # area just begins for y\n",
    "    interyA = max(boxA[1], boxB[1])\n",
    "    # This will get min value between 2 boxes becuase min mening overlapping\n",
    "    # area just begins for x because bottom right should be less as it's ending\n",
    "    interxB = min(boxA[2], boxB[2])\n",
    "    # This will get min value between 2 boxes becuase min mening overlapping\n",
    "    # area just begins for y because bottom right should be less as it's ending\n",
    "    interyB = min(boxA[3], boxB[3])\n",
    "\n",
    "    # Now basic concept to find area of any rectangle in co-ordinate plane we\n",
    "    # can think in this way, this is values top-left: (xa, ya),\n",
    "    # bottom-right: (xb, yb)\n",
    "    # (xb - xa + 1) * (yb - ya + 1) this formula will yield us the area of that\n",
    "    # rectangle\n",
    "\n",
    "    # this will find area of intersection rectangle\n",
    "    # TODO: understand why 0 is there is used?\n",
    "    interArea = max(0, interxB - interxA + 1) * max(0, interyB - interyA + 1)\n",
    "\n",
    "    boxAarea = (boxA[2] - boxA[0] + 1) * (boxA[3] - boxA[1] + 1)\n",
    "    boxBarea = (boxB[2] - boxB[0] + 1) * (boxB[3] - boxB[1] + 1)\n",
    "\n",
    "    return interArea / (boxAarea + boxBarea - interArea)"
   ]
  },
  {
   "cell_type": "code",
   "execution_count": 13,
   "metadata": {},
   "outputs": [
    {
     "data": {
      "text/plain": [
       "0.7980093676814989"
      ]
     },
     "execution_count": 13,
     "metadata": {},
     "output_type": "execute_result"
    }
   ],
   "source": [
    "# get_iou([39, 63, 203, 112], [54, 66, 198, 114])\n",
    "get_iou([39, 63, 203, 112], [54, 66, 198, 114])"
   ]
  },
  {
   "cell_type": "code",
   "execution_count": null,
   "metadata": {},
   "outputs": [],
   "source": []
  }
 ],
 "metadata": {
  "kernelspec": {
   "display_name": "Python 3",
   "language": "python",
   "name": "python3"
  },
  "language_info": {
   "codemirror_mode": {
    "name": "ipython",
    "version": 3
   },
   "file_extension": ".py",
   "mimetype": "text/x-python",
   "name": "python",
   "nbconvert_exporter": "python",
   "pygments_lexer": "ipython3",
   "version": "3.8.10"
  },
  "orig_nbformat": 4
 },
 "nbformat": 4,
 "nbformat_minor": 2
}
